{
    "cells": [
        {
            "cell_type": "code",
            "execution_count": 13,
            "source": [
                "import pytorch_lightning as pl\r\n",
                "from pytorch_lightning.callbacks import ModelCheckpoint, LearningRateMonitor\r\n",
                "import torch\r\n",
                "import torch.nn as nn\r\n",
                "from torch.optim import SGD\r\n",
                "from torch.utils.data import DataLoader\r\n",
                "from torchvision import transforms\r\n",
                "from torchvision.datasets import ImageFolder\r\n",
                "from torchvision import models\r\n",
                "from efficientnet_pytorch import EfficientNet\r\n",
                "from utils.triploss import TripletLoss\r\n",
                "class net(EfficientNet):\r\n",
                "    def forward(self, inputs):\r\n",
                "        t = self.extract_features(inputs)\r\n",
                "        # Pooling and final linear layer\r\n",
                "        t = self._avg_pooling(t)\r\n",
                "        if self._global_params.include_top:\r\n",
                "            t = t.flatten(start_dim=1)\r\n",
                "            x = self._dropout(t)\r\n",
                "            x = self._fc(x)\r\n",
                "        return t,x\r\n",
                "\r\n",
                "class Net(pl.LightningModule):\r\n",
                "    def __init__(\r\n",
                "        self,\r\n",
                "        model,\r\n",
                "        batch_size,\r\n",
                "        epochs,\r\n",
                "        data_path=\"data/debug\",\r\n",
                "        lr=1e-4\r\n",
                "    ):\r\n",
                "        super(Net,self).__init__()\r\n",
                "        self.batch_size = batch_size\r\n",
                "        self.epochs = epochs\r\n",
                "        self.data_path=data_path[:-1] if data_path[-1]==\"/\" else data_path\r\n",
                "        self.lr = lr\r\n",
                "        self.model=model\r\n",
                "        self.loss_fn_c=nn.CrossEntropyLoss()\r\n",
                "        self.loss_fn_e=TripletLoss()\r\n",
                "    def forward(\r\n",
                "        self,x\r\n",
                "    ):\r\n",
                "        (emb,pred)=self.model(x)\r\n",
                "        return emb,pred\r\n",
                "    def train_dataloader(self) :\r\n",
                "        return DataLoader(\r\n",
                "            ImageFolder(\r\n",
                "                self.data_path+\"/train\",\r\n",
                "                transform=transforms.Compose(\r\n",
                "                    [\r\n",
                "                        transforms.ToTensor(),\r\n",
                "                        transforms.RandomResizedCrop([224,224]),\r\n",
                "                    ]\r\n",
                "                )\r\n",
                "            ),\r\n",
                "            batch_size=self.batch_size,\r\n",
                "            shuffle=True,\r\n",
                "            drop_last=True,\r\n",
                "        )\r\n",
                "    def val_dataloader(self) :\r\n",
                "        return DataLoader(\r\n",
                "            ImageFolder(\r\n",
                "                self.data_path+\"/valid\",\r\n",
                "                transform=transforms.Compose(\r\n",
                "                    [transforms.ToTensor(),transforms.Resize([224,224])]\r\n",
                "                )\r\n",
                "            ),\r\n",
                "            batch_size=self.batch_size,\r\n",
                "            shuffle=True,\r\n",
                "            drop_last=True,\r\n",
                "        )    \r\n",
                "    def configure_optimizers(self):\r\n",
                "        optimizer = SGD(self.parameters(), lr=self.lr)\r\n",
                "        return optimizer\r\n",
                "    def training_step(self, batch, batch_nb):\r\n",
                "        emb,pred = self.forward(batch[0])\r\n",
                "        loss_c=self.loss_fn_c(pred,batch[1])\r\n",
                "        loss_e=self.loss_fn_e(emb,batch[1])\r\n",
                "        self.log(\r\n",
                "            \"train_loss\",\r\n",
                "            loss_c,\r\n",
                "            on_step=True,\r\n",
                "            on_epoch=True,\r\n",
                "            prog_bar=True,\r\n",
                "            logger=True,\r\n",
                "            \r\n",
                "        )\r\n",
                "        return loss_c+loss_e\r\n",
                "    def validation_step(self, batch, batch_nb):\r\n",
                "        _,pred = self.forward(batch[0])\r\n",
                "        loss=self.loss_fn_c(pred,batch[1])\r\n",
                "        return loss\r\n",
                "    def validation_epoch_end(self, outputs):\r\n",
                "        avg_loss = torch.stack(outputs).mean()\r\n",
                "        self.log(\r\n",
                "            \"val_loss\",\r\n",
                "            avg_loss,\r\n",
                "            on_epoch=True,\r\n",
                "            prog_bar=True,\r\n",
                "            logger=True,\r\n",
                "        )\r\n",
                "        return {\"val_loss\": avg_loss}"
            ],
            "outputs": [],
            "metadata": {}
        },
        {
            "cell_type": "code",
            "execution_count": 14,
            "source": [
                "if __name__=='__main__':\r\n",
                "    model=net.from_pretrained(\"efficientnet-b0\",num_classes=137 ,advprop=True)\r\n",
                "    epochs=10\r\n",
                "    output_path=\"runs/exp1\"\r\n",
                "    batch_size=4\r\n",
                "    data_path=\"data/debug\"\r\n",
                "    lr=1e-3\r\n",
                "    checkpoint_callback = ModelCheckpoint(\r\n",
                "        dirpath=output_path,\r\n",
                "        verbose=True,\r\n",
                "        every_n_epochs=1,\r\n",
                "        save_top_k=1,\r\n",
                "        monitor=\"val_loss\",\r\n",
                "        mode=\"min\",\r\n",
                "    )\r\n",
                "    trainer = pl.Trainer(\r\n",
                "        default_root_dir=output_path,\r\n",
                "        gradient_clip_val=1,\r\n",
                "        max_epochs=epochs,\r\n",
                "        gpus=1,\r\n",
                "        callbacks=[checkpoint_callback],\r\n",
                "        precision=32,\r\n",
                "    )\r\n",
                "    enet = Net(\r\n",
                "        model,\r\n",
                "        batch_size,\r\n",
                "        epochs,\r\n",
                "        data_path=data_path,\r\n",
                "        lr=lr,\r\n",
                "    )\r\n",
                "    trainer.fit(enet)"
            ],
            "outputs": [
                {
                    "output_type": "stream",
                    "name": "stderr",
                    "text": [
                        "GPU available: True, used: True\n",
                        "TPU available: False, using: 0 TPU cores\n",
                        "IPU available: False, using: 0 IPUs\n",
                        "LOCAL_RANK: 0 - CUDA_VISIBLE_DEVICES: [0]\n",
                        "\n",
                        "  | Name      | Type             | Params\n",
                        "-----------------------------------------------\n",
                        "0 | model     | net              | 4.3 M \n",
                        "1 | loss_fn_c | CrossEntropyLoss | 0     \n",
                        "2 | loss_fn_e | TripletLoss      | 0     \n",
                        "-----------------------------------------------\n",
                        "4.3 M     Trainable params\n",
                        "0         Non-trainable params\n",
                        "4.3 M     Total params\n",
                        "17.055    Total estimated model params size (MB)\n"
                    ]
                },
                {
                    "output_type": "stream",
                    "name": "stdout",
                    "text": [
                        "Loaded pretrained weights for efficientnet-b0\n",
                        "Epoch 0: 100%|██████████| 68/68 [00:12<00:00,  5.44it/s, loss=5.29, v_num=7, train_loss_step=5.280, val_loss=5.320]"
                    ]
                },
                {
                    "output_type": "stream",
                    "name": "stderr",
                    "text": [
                        "Epoch 0, global step 33: val_loss reached 5.31987 (best 5.31987), saving model to \"C:\\VScode\\deep_learning\\ifly_pic\\runs\\exp1\\epoch=0-step=33.ckpt\" as top 1\n"
                    ]
                },
                {
                    "output_type": "stream",
                    "name": "stdout",
                    "text": [
                        "Epoch 1: 100%|██████████| 68/68 [00:13<00:00,  5.14it/s, loss=5.34, v_num=7, train_loss_step=5.320, val_loss=5.310, train_loss_epoch=5.300]"
                    ]
                },
                {
                    "output_type": "stream",
                    "name": "stderr",
                    "text": [
                        "Epoch 1, global step 67: val_loss reached 5.30719 (best 5.30719), saving model to \"C:\\VScode\\deep_learning\\ifly_pic\\runs\\exp1\\epoch=1-step=67.ckpt\" as top 1\n"
                    ]
                },
                {
                    "output_type": "stream",
                    "name": "stdout",
                    "text": [
                        "Epoch 2: 100%|██████████| 68/68 [00:12<00:00,  5.39it/s, loss=5.32, v_num=7, train_loss_step=5.390, val_loss=5.300, train_loss_epoch=5.330]"
                    ]
                },
                {
                    "output_type": "stream",
                    "name": "stderr",
                    "text": [
                        "Epoch 2, global step 101: val_loss reached 5.29839 (best 5.29839), saving model to \"C:\\VScode\\deep_learning\\ifly_pic\\runs\\exp1\\epoch=2-step=101.ckpt\" as top 1\n"
                    ]
                },
                {
                    "output_type": "stream",
                    "name": "stdout",
                    "text": [
                        "Epoch 3: 100%|██████████| 68/68 [00:13<00:00,  4.93it/s, loss=5.31, v_num=7, train_loss_step=5.230, val_loss=5.300, train_loss_epoch=5.320]"
                    ]
                },
                {
                    "output_type": "stream",
                    "name": "stderr",
                    "text": [
                        "Epoch 3, global step 135: val_loss reached 5.29553 (best 5.29553), saving model to \"C:\\VScode\\deep_learning\\ifly_pic\\runs\\exp1\\epoch=3-step=135.ckpt\" as top 1\n"
                    ]
                },
                {
                    "output_type": "stream",
                    "name": "stdout",
                    "text": [
                        "Epoch 4: 100%|██████████| 68/68 [00:13<00:00,  5.18it/s, loss=5.32, v_num=7, train_loss_step=5.360, val_loss=5.300, train_loss_epoch=5.320]"
                    ]
                },
                {
                    "output_type": "stream",
                    "name": "stderr",
                    "text": [
                        "Epoch 4, global step 169: val_loss was not in top 1\n"
                    ]
                },
                {
                    "output_type": "stream",
                    "name": "stdout",
                    "text": [
                        "Epoch 5: 100%|██████████| 68/68 [00:12<00:00,  5.38it/s, loss=5.28, v_num=7, train_loss_step=5.400, val_loss=5.290, train_loss_epoch=5.320]"
                    ]
                },
                {
                    "output_type": "stream",
                    "name": "stderr",
                    "text": [
                        "Epoch 5, global step 203: val_loss reached 5.29467 (best 5.29467), saving model to \"C:\\VScode\\deep_learning\\ifly_pic\\runs\\exp1\\epoch=5-step=203.ckpt\" as top 1\n"
                    ]
                },
                {
                    "output_type": "stream",
                    "name": "stdout",
                    "text": [
                        "Epoch 6:   0%|          | 0/68 [00:00<00:00, 1001.98it/s, loss=5.28, v_num=7, train_loss_step=5.400, val_loss=5.290, train_loss_epoch=5.320]"
                    ]
                }
            ],
            "metadata": {}
        },
        {
            "cell_type": "code",
            "execution_count": null,
            "source": [],
            "outputs": [],
            "metadata": {}
        }
    ],
    "metadata": {
        "orig_nbformat": 4,
        "language_info": {
            "name": "python",
            "version": "3.8.8",
            "mimetype": "text/x-python",
            "codemirror_mode": {
                "name": "ipython",
                "version": 3
            },
            "pygments_lexer": "ipython3",
            "nbconvert_exporter": "python",
            "file_extension": ".py"
        },
        "kernelspec": {
            "name": "python3",
            "display_name": "Python 3.8.8 64-bit ('base': conda)"
        },
        "interpreter": {
            "hash": "40c4e17f077218d16613fe0a521debfb2207e39289331d3ad681e8733da961f0"
        }
    },
    "nbformat": 4,
    "nbformat_minor": 2
}